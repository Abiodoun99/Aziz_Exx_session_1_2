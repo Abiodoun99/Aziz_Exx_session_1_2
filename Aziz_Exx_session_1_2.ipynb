{
 "cells": [
  {
   "cell_type": "markdown",
   "id": "91a89cd4-f35b-480a-8f5b-17901467e384",
   "metadata": {
    "jp-MarkdownHeadingCollapsed": true
   },
   "source": [
    "# Session 1 : Notions de base en Python"
   ]
  },
  {
   "cell_type": "markdown",
   "id": "7ac684a0-5b1a-47d2-b02b-58bb0ab672c0",
   "metadata": {},
   "source": [
    "1. Déclarez une variable x avec la valeur 25 et une autre variable y avec la valeur 12.5. Affichez leur type."
   ]
  },
  {
   "cell_type": "code",
   "execution_count": 1,
   "id": "43cd1251-6c76-45b7-bf11-4c9f9f28d73b",
   "metadata": {},
   "outputs": [
    {
     "name": "stdout",
     "output_type": "stream",
     "text": [
      "25\n"
     ]
    }
   ],
   "source": [
    "x = 25\n",
    "y = 12.5\n",
    "print(x)"
   ]
  },
  {
   "cell_type": "code",
   "execution_count": 11,
   "id": "ccdbfa7e",
   "metadata": {},
   "outputs": [
    {
     "name": "stdout",
     "output_type": "stream",
     "text": [
      "25 12.5\n"
     ]
    },
    {
     "data": {
      "text/plain": [
       "int"
      ]
     },
     "execution_count": 11,
     "metadata": {},
     "output_type": "execute_result"
    }
   ],
   "source": [
    "print(x,y)\n",
    "type(x)"
   ]
  },
  {
   "cell_type": "code",
   "execution_count": null,
   "id": "9312199f",
   "metadata": {},
   "outputs": [],
   "source": [
    "2. Transformez la variable x en une chaîne de caractères, puis affichez son nouveau type."
   ]
  },
  {
   "cell_type": "code",
   "execution_count": 13,
   "id": "ff27d8ab-4997-4221-a6fb-e2cee988821a",
   "metadata": {},
   "outputs": [
    {
     "name": "stdout",
     "output_type": "stream",
     "text": [
      "<class 'str'>\n"
     ]
    }
   ],
   "source": [
    "x = str(x)\n",
    "print(type(x))"
   ]
  },
  {
   "cell_type": "markdown",
   "id": "d4687409-ae8d-43ce-9fac-9d99d680b1e6",
   "metadata": {},
   "source": [
    "3. Déclarez deux variables, a = 10 et b = 4. Calculez et affichez leur somme, leur différence, leur produit, et leur division."
   ]
  },
  {
   "cell_type": "code",
   "execution_count": 16,
   "id": "2eefc89f-c680-4bf4-9eba-60927e703954",
   "metadata": {},
   "outputs": [
    {
     "name": "stdout",
     "output_type": "stream",
     "text": [
      "14\n",
      "6\n",
      "40\n",
      "2.5\n"
     ]
    }
   ],
   "source": [
    "a = 10\n",
    "b = 4\n",
    "print(a+b)\n",
    "print(a-b)\n",
    "print(a*b)\n",
    "print(a/b)"
   ]
  },
  {
   "cell_type": "markdown",
   "id": "b0c52afd-271f-4639-bdf8-99ced4f85d2e",
   "metadata": {},
   "source": [
    "4. Déclarez une variable nombre = 15. Calculez le reste de la division de nombre par 4."
   ]
  },
  {
   "cell_type": "code",
   "execution_count": 19,
   "id": "7f5f38ee-e9df-4b54-aec4-599982b096e5",
   "metadata": {},
   "outputs": [
    {
     "name": "stdout",
     "output_type": "stream",
     "text": [
      "3.75\n",
      "3\n"
     ]
    }
   ],
   "source": [
    "nombre = 15\n",
    "print(nombre/4)\n",
    "print(nombre%4)"
   ]
  },
  {
   "cell_type": "markdown",
   "id": "a9bfffe4-87e9-4ba9-9e61-5ebb2d249186",
   "metadata": {},
   "source": [
    "5. Convertissez la chaîne \"45\" en un entier. Ajoutez 5 au résultat et affichez-le."
   ]
  },
  {
   "cell_type": "code",
   "execution_count": 24,
   "id": "1568d98b-e9c1-4eae-8186-03be8b6a8c8a",
   "metadata": {},
   "outputs": [
    {
     "name": "stdout",
     "output_type": "stream",
     "text": [
      "50\n"
     ]
    }
   ],
   "source": [
    "chaine = \"45\"\n",
    "numb = int(chaine)\n",
    "print(numb + 5)"
   ]
  },
  {
   "cell_type": "markdown",
   "id": "5753ce00-0020-42c9-982f-d4661cc5ba9d",
   "metadata": {},
   "source": [
    "6. Transformez le nombre décimal 3.14 en une chaîne de caractères, puis affichez-le."
   ]
  },
  {
   "cell_type": "code",
   "execution_count": 39,
   "id": "a8a627ff-eb5b-4329-963d-cba3294f4b2c",
   "metadata": {},
   "outputs": [
    {
     "data": {
      "text/plain": [
       "'3.14'"
      ]
     },
     "execution_count": 39,
     "metadata": {},
     "output_type": "execute_result"
    }
   ],
   "source": [
    "decim = 3.14\n",
    "dec = str(decim)\n",
    "dec"
   ]
  },
  {
   "cell_type": "markdown",
   "id": "a5af86d9-b2f0-46d7-bd70-7f9c9e1a918e",
   "metadata": {},
   "source": [
    "7. Déclarez une variable texte = \"Python est amusant\". Affichez cette phrase en lettres majuscules."
   ]
  },
  {
   "cell_type": "code",
   "execution_count": 31,
   "id": "eeb347c0-5676-4d79-bc8d-c4442123dd38",
   "metadata": {},
   "outputs": [
    {
     "name": "stdout",
     "output_type": "stream",
     "text": [
      "PYTHON IS FUN\n"
     ]
    }
   ],
   "source": [
    "\n",
    "texte = \"Python is fun\"\n",
    "up_text = texte.upper()\n",
    "print(up_text)"
   ]
  },
  {
   "cell_type": "markdown",
   "id": "97fe7efc-4446-4120-b744-f31ff042defb",
   "metadata": {},
   "source": [
    "8. Analysez ce code et expliquez pourquoi il produit une erreur  \n",
    "```python\n",
    "x = \"10\"\n",
    "y = 5\n",
    "print(x + y)\n"
   ]
  },
  {
   "cell_type": "markdown",
   "id": "48eaa56e-1361-4ce5-a713-8afd7f3b1261",
   "metadata": {},
   "source": [
    "...une erreur est produite car on essaie d'ajouter x(string) et y(integer), ce qui est impossible"
   ]
  },
  {
   "cell_type": "markdown",
   "id": "d79d379c-f0a9-4f25-819c-868c8710ffe0",
   "metadata": {},
   "source": [
    "9. Déclarez une variable nom = \"Alice\". Créez une nouvelle chaîne qui dit : \"Bonjour, Alice\"."
   ]
  },
  {
   "cell_type": "code",
   "execution_count": 38,
   "id": "d66f3d4f-8de0-4cb1-b48c-fb057c0f5376",
   "metadata": {},
   "outputs": [
    {
     "name": "stdout",
     "output_type": "stream",
     "text": [
      "Bonjour, Alice\n"
     ]
    }
   ],
   "source": [
    "nom = \"Alice\"\n",
    "msg = \"Bonjour, \" +nom\n",
    "print(msg)"
   ]
  },
  {
   "cell_type": "markdown",
   "id": "b4de1de4-ba3a-4c2a-b96f-2a280846a25e",
   "metadata": {},
   "source": [
    "10. Corrigez le code ci-dessous :\n",
    "```python\n",
    "z = \"Bonjour\"\n",
    "print(\"Le message est :  + z\")"
   ]
  },
  {
   "cell_type": "code",
   "execution_count": 41,
   "id": "30cafed9-ef4d-4077-b5c7-e9dcd2f9a4fd",
   "metadata": {},
   "outputs": [
    {
     "name": "stdout",
     "output_type": "stream",
     "text": [
      "Le message est: Bonjour\n"
     ]
    }
   ],
   "source": [
    "z=\"Bonjour\"\n",
    "print(\"Le message est: \"+z)"
   ]
  },
  {
   "cell_type": "markdown",
   "id": "32f3c85c-1975-434b-b920-02bcfc6f2c0a",
   "metadata": {},
   "source": [
    "11. Calculez la valeur de l’expression suivante : $(3 + 5) \\times 2 - 8 / 4$."
   ]
  },
  {
   "cell_type": "code",
   "execution_count": 43,
   "id": "f5d8bcd5-912b-4a6f-b416-a1dd94cdcaf3",
   "metadata": {},
   "outputs": [
    {
     "data": {
      "text/plain": [
       "14.0"
      ]
     },
     "execution_count": 43,
     "metadata": {},
     "output_type": "execute_result"
    }
   ],
   "source": [
    "(3+5)*2-8/4"
   ]
  },
  {
   "cell_type": "markdown",
   "id": "5bcdc4a1-f383-4c25-bb9c-2a4b6222e074",
   "metadata": {},
   "source": [
    "12. Déclarez une variable rayon = 7 et utilisez la formule $C = 2 \\pi r$ pour calculer la circonférence d’un cercle (en supposant $\\pi = 3.14$)."
   ]
  },
  {
   "cell_type": "code",
   "execution_count": 48,
   "id": "47538849-3fbb-4cd6-93f1-f3f8f1675636",
   "metadata": {},
   "outputs": [
    {
     "name": "stdout",
     "output_type": "stream",
     "text": [
      "43.96\n"
     ]
    }
   ],
   "source": [
    "r = 7\n",
    "pi = 3.14\n",
    "C = 2*pi*r\n",
    "print(C)"
   ]
  },
  {
   "cell_type": "markdown",
   "id": "f44ca009-a4d4-4ddc-b94c-c651b9fba055",
   "metadata": {},
   "source": [
    "13. Créez une variable contenant la phrase \"Python est génial\". Remplacez \"génial\" par \"facile\" et affichez le résultat.\n",
    "\n",
    "`Tip`: cherchez la documentation de replace () en python sur internet"
   ]
  },
  {
   "cell_type": "code",
   "execution_count": 50,
   "id": "7ca30c99-54c5-4dc1-b925-24d3a2dcf4e5",
   "metadata": {},
   "outputs": [
    {
     "name": "stdout",
     "output_type": "stream",
     "text": [
      "Python est facile\n"
     ]
    }
   ],
   "source": [
    "phrase = \"Python est génial\"\n",
    "new_phrase = phrase.replace(\"génial\", \"facile\")\n",
    "print(new_phrase)"
   ]
  },
  {
   "cell_type": "markdown",
   "id": "c772a7e6-a249-4360-898a-af3cfa134b02",
   "metadata": {},
   "source": [
    "14. Déclarez une variable phrase = \"Data Science\". Trouvez combien de caractères cette phrase contient.\n",
    "   \n",
    "`Tip`: on utilise la syntaxe len(x) pour connaitre la taille du contenu d'une variable"
   ]
  },
  {
   "cell_type": "code",
   "execution_count": 51,
   "id": "aea1137d-37e3-40f0-bc66-f087c67cf073",
   "metadata": {},
   "outputs": [
    {
     "data": {
      "text/plain": [
       "12"
      ]
     },
     "execution_count": 51,
     "metadata": {},
     "output_type": "execute_result"
    }
   ],
   "source": [
    "expr = \"Data Science\"\n",
    "len(expr)"
   ]
  },
  {
   "cell_type": "markdown",
   "id": "2f058410-46ef-4833-881e-cb9252e7f0a0",
   "metadata": {},
   "source": [
    "15. Pourquoi ce code produit-il une erreur ?\n",
    "```python\n",
    "valeur = 5\n",
    "texte = \"Le résultat est \"\n",
    "print(texte + valeur)"
   ]
  },
  {
   "cell_type": "markdown",
   "id": "32cfc746",
   "metadata": {},
   "source": [
    "la commande print ici essaie d'afficher a la fois un entier et un caractere, ce qui n'est pas faisable"
   ]
  },
  {
   "cell_type": "markdown",
   "id": "af4b1941-7125-45a2-a6b0-eaa62fb13695",
   "metadata": {},
   "source": [
    "16. Transformez la valeur entière 42 en un float, puis en une chaîne de caractères.\n"
   ]
  },
  {
   "cell_type": "code",
   "execution_count": 55,
   "id": "cf94c90c-cd37-492b-a57e-94be61f5b2cc",
   "metadata": {},
   "outputs": [
    {
     "name": "stdout",
     "output_type": "stream",
     "text": [
      "42.0\n"
     ]
    },
    {
     "data": {
      "text/plain": [
       "'42.0'"
      ]
     },
     "execution_count": 55,
     "metadata": {},
     "output_type": "execute_result"
    }
   ],
   "source": [
    "n = 42\n",
    "n_float = float(n)\n",
    "n_str = str(n_float)\n",
    "print(n_float)\n",
    "n_str"
   ]
  },
  {
   "cell_type": "markdown",
   "id": "c408a14a-30be-488e-9d6f-8047f391fb9f",
   "metadata": {},
   "source": [
    "17. Affichez la valeur de $10^3$ en utilisant l’opérateur Python correspondant.\n"
   ]
  },
  {
   "cell_type": "code",
   "execution_count": 56,
   "id": "f485fa88-112b-4d65-a62e-787d1bbd10f8",
   "metadata": {},
   "outputs": [
    {
     "data": {
      "text/plain": [
       "1000"
      ]
     },
     "execution_count": 56,
     "metadata": {},
     "output_type": "execute_result"
    }
   ],
   "source": [
    "10**3"
   ]
  },
  {
   "cell_type": "markdown",
   "id": "57cc73aa-9020-4006-bc21-03312dec91bd",
   "metadata": {},
   "source": [
    "18. Créez une variable pi = 3.14159 et affichez sa valeur arrondie à deux décimales."
   ]
  },
  {
   "cell_type": "code",
   "execution_count": 59,
   "id": "e005486b-e395-4a2f-a7b8-a39e818dd2aa",
   "metadata": {},
   "outputs": [
    {
     "name": "stdout",
     "output_type": "stream",
     "text": [
      "3.14\n"
     ]
    }
   ],
   "source": [
    "pi = 3.14159\n",
    "pi_2 = round(pi, 2)\n",
    "print(pi_2)"
   ]
  },
  {
   "cell_type": "code",
   "execution_count": 60,
   "id": "5bd8b3a4",
   "metadata": {},
   "outputs": [
    {
     "name": "stdout",
     "output_type": "stream",
     "text": [
      "34\n"
     ]
    }
   ],
   "source": [
    "x = \"3\"\n",
    "y = \"4\"\n",
    "print(x + y)"
   ]
  },
  {
   "cell_type": "markdown",
   "id": "2cee3d91-a58e-45db-8d09-bd4a811c140b",
   "metadata": {},
   "source": [
    "19. Donnez un exemple où il est préférable d’utiliser un float plutôt qu’un entier."
   ]
  },
  {
   "cell_type": "markdown",
   "id": "ba6e4798-df05-4e8f-b872-6ced4bb5c25a",
   "metadata": {},
   "source": [
    "...mil est preferable d'utiliser un float dans le cas des mesures comme le poids ou la taille d'un etre vivant ou d'un objet"
   ]
  },
  {
   "cell_type": "markdown",
   "id": "72e56889-6cf8-42f9-bbc5-6bf9f5082417",
   "metadata": {},
   "source": [
    "20. Pourquoi le code suivant ne produit-il pas le résultat attendu ?\n",
    "```python\n",
    "x = \"3\"\n",
    "y = \"4\"\n",
    "print(x + y)"
   ]
  },
  {
   "cell_type": "markdown",
   "id": "6ffbb19c",
   "metadata": {},
   "source": [
    "x et y sont des chaines de caractere, donc print(x+y) ne donne pas le resultat du calcul x+y mais plutot la fusion de deux bouts de textes"
   ]
  },
  {
   "cell_type": "markdown",
   "id": "2689235e-bf37-4d87-92f4-fe665867f6dc",
   "metadata": {
    "jp-MarkdownHeadingCollapsed": true
   },
   "source": [
    "# Session 2"
   ]
  },
  {
   "cell_type": "markdown",
   "id": "ea727236-6d24-4c60-b4de-62e057ab92de",
   "metadata": {},
   "source": [
    "1. Quelle commande permet d’initialiser un dépôt Git dans un dossier ?"
   ]
  },
  {
   "cell_type": "code",
   "execution_count": null,
   "id": "e82f7a41",
   "metadata": {},
   "outputs": [],
   "source": [
    "#git init"
   ]
  },
  {
   "cell_type": "markdown",
   "id": "a705621f-d09b-4d6d-b40c-eda7b0180ccb",
   "metadata": {},
   "source": [
    "2. Expliquez à quoi sert la commande git status."
   ]
  },
  {
   "cell_type": "code",
   "execution_count": null,
   "id": "3db2ac94",
   "metadata": {},
   "outputs": [],
   "source": [
    "# c'est pour verifier l'etat du depot, ce qu'il contient"
   ]
  },
  {
   "cell_type": "markdown",
   "id": "41a1ed07-7dd7-438f-a265-3a09c63b7cfd",
   "metadata": {},
   "source": [
    "3. Donnez les commandes pour configurer votre nom d’utilisateur Git et votre email."
   ]
  },
  {
   "cell_type": "code",
   "execution_count": null,
   "id": "f4ca9efd",
   "metadata": {},
   "outputs": [],
   "source": [
    "# si mon username est Abiodoun99 et mon email est aiasoumanou@gmail.com\n",
    "#git config --global user.name \"Abiodoun99\"\n",
    "#git config --global user.email \"aiasoumanou@gmail.com\""
   ]
  },
  {
   "cell_type": "markdown",
   "id": "271c12d5-c7e3-4793-a200-ddeeee7f4e8c",
   "metadata": {},
   "source": [
    "4. Pourquoi est-il important de configurer ces informations avant de commencer à utiliser Git ?"
   ]
  },
  {
   "cell_type": "code",
   "execution_count": null,
   "id": "6c12b795",
   "metadata": {},
   "outputs": [],
   "source": [
    "# c'est pour identifier l'auteur "
   ]
  },
  {
   "cell_type": "markdown",
   "id": "92f6d0d1-b2d8-4a97-badd-9fa7501f6d90",
   "metadata": {},
   "source": [
    "5. Expliquez ce que fait la commande git add et donnez un exemple d’utilisation."
   ]
  },
  {
   "cell_type": "code",
   "execution_count": null,
   "id": "217e8bbc",
   "metadata": {},
   "outputs": [],
   "source": [
    "#git add permet d'ajouter des fichier au depot\n",
    "git add document.txt"
   ]
  },
  {
   "cell_type": "markdown",
   "id": "9a2bbfd0-16c9-40c8-a8d7-1ce03ceff673",
   "metadata": {},
   "source": [
    "6. Quelle est la différence entre git commit et git push ?"
   ]
  },
  {
   "cell_type": "code",
   "execution_count": null,
   "id": "bf28e8e9",
   "metadata": {},
   "outputs": [],
   "source": [
    "git commit permet d'enregistrer les modifications dans le depot local\n",
    "git push  envoie les commits vers le depot distant"
   ]
  },
  {
   "cell_type": "markdown",
   "id": "cf06d033-2b8e-4964-814a-e7d281cfa9c8",
   "metadata": {},
   "source": [
    "7. Quelle commande permet de voir l’historique des commits ? Donnez un exemple."
   ]
  },
  {
   "cell_type": "code",
   "execution_count": null,
   "id": "7b9529fb",
   "metadata": {},
   "outputs": [],
   "source": [
    "git log"
   ]
  },
  {
   "cell_type": "markdown",
   "id": "09dab394-2b4e-4284-99ef-389d244edd96",
   "metadata": {},
   "source": [
    "8. Comment afficher uniquement les deux derniers commits dans cet historique ?"
   ]
  },
  {
   "cell_type": "code",
   "execution_count": null,
   "id": "9f417781",
   "metadata": {},
   "outputs": [],
   "source": [
    "git log -2"
   ]
  },
  {
   "cell_type": "markdown",
   "id": "f38e149b-7195-4365-adc1-d69719acb8f5",
   "metadata": {},
   "source": [
    "9. Comment créer une nouvelle branche dans Git ? Donnez la commande."
   ]
  },
  {
   "cell_type": "code",
   "execution_count": null,
   "id": "1d93cd65",
   "metadata": {},
   "outputs": [],
   "source": [
    "git branch new_branch"
   ]
  },
  {
   "cell_type": "markdown",
   "id": "fcc66186-63f2-478b-810c-4ed557374da4",
   "metadata": {},
   "source": [
    "10. Expliquez à quoi sert une branche dans un projet collaboratif."
   ]
  },
  {
   "cell_type": "code",
   "execution_count": null,
   "id": "41ff8a08",
   "metadata": {},
   "outputs": [],
   "source": [
    "une branche permet de travailler sur des fonctionnalites sans impacter le code principal"
   ]
  },
  {
   "cell_type": "markdown",
   "id": "43d7e9ef-3870-49d8-8799-b18eee53af07",
   "metadata": {},
   "source": [
    "11. Donnez les commandes pour récupérer les modifications d’un dépôt distant."
   ]
  },
  {
   "cell_type": "code",
   "execution_count": null,
   "id": "b49fba15",
   "metadata": {},
   "outputs": [],
   "source": [
    "git pull"
   ]
  },
  {
   "cell_type": "markdown",
   "id": "bbcf1483-f79b-4afe-8306-eb8f968b38f6",
   "metadata": {},
   "source": [
    "12. Expliquez la différence entre git pull et git clone."
   ]
  },
  {
   "cell_type": "code",
   "execution_count": null,
   "id": "964ce69c",
   "metadata": {},
   "outputs": [],
   "source": [
    "git clone permet de copier un depot distant\n",
    "git pull met a jour le depot local aves les dernieres modifications"
   ]
  },
  {
   "cell_type": "markdown",
   "id": "bd364b91-fafc-42e4-b4c8-4c8f4619b46e",
   "metadata": {},
   "source": [
    "13. Quelle commande permet de connecter un dépôt local à un dépôt distant ? Donnez un exemple."
   ]
  },
  {
   "cell_type": "code",
   "execution_count": null,
   "id": "319a7a73",
   "metadata": {},
   "outputs": [],
   "source": [
    "git remote add origin path_du_depot_distant"
   ]
  },
  {
   "cell_type": "markdown",
   "id": "d88cb1d9-7c81-4b4e-84cb-ee7089dc4b53",
   "metadata": {},
   "source": [
    "14. Pourquoi est-il important d’utiliser un dépôt distant pour un projet collaboratif ?"
   ]
  },
  {
   "cell_type": "code",
   "execution_count": null,
   "id": "0c4f273b",
   "metadata": {},
   "outputs": [],
   "source": [
    "pour permettre a tous de travailler sur le meme projet et de le sauvegarder en ligne"
   ]
  },
  {
   "cell_type": "markdown",
   "id": "10d3f4e7-2dcf-4e5e-9a5b-ef9a1d50bcb7",
   "metadata": {},
   "source": [
    "15. Quelle commande permet d’exclure des fichiers du suivi Git à l’aide d’un fichier .gitignore ?"
   ]
  },
  {
   "cell_type": "code",
   "execution_count": null,
   "id": "f96f7a6d",
   "metadata": {},
   "outputs": [],
   "source": []
  },
  {
   "cell_type": "markdown",
   "id": "35fa55a2-6e65-404d-ba84-87102d9d4690",
   "metadata": {},
   "source": [
    "16. Que se passe-t-il si vous supprimez un fichier suivi par Git dans votre système de fichiers mais que vous ne faites pas de commit ?"
   ]
  },
  {
   "cell_type": "code",
   "execution_count": null,
   "id": "db2ec342",
   "metadata": {},
   "outputs": [],
   "source": [
    "avec git status, on verra que le fichier a ete supprime"
   ]
  },
  {
   "cell_type": "markdown",
   "id": "a447dd95-4b88-42ae-9637-7c75986037ee",
   "metadata": {},
   "source": [
    "17. Que fait la commande git rm ? Donnez un exemple."
   ]
  },
  {
   "cell_type": "code",
   "execution_count": null,
   "id": "a4b0fca3",
   "metadata": {},
   "outputs": [],
   "source": [
    "elle supprime le fichier dans le suive git et du systeme de fichier\n",
    "git rm my_file.txt"
   ]
  },
  {
   "cell_type": "markdown",
   "id": "c0551f4d-9ab9-4ab1-aeec-7d9d0ff61c12",
   "metadata": {},
   "source": [
    "18. Expliquez pourquoi il est déconseillé de committer directement sur la branche main dans un projet collaboratif."
   ]
  },
  {
   "cell_type": "code",
   "execution_count": null,
   "id": "03b27de0",
   "metadata": {},
   "outputs": [],
   "source": [
    "pour permettre la validation des branches secondaires"
   ]
  },
  {
   "cell_type": "markdown",
   "id": "9a86b1c5-5622-4a3a-b9d5-e76d1578ddbf",
   "metadata": {},
   "source": [
    "19. Donnez un scénario où l’utilisation de Git pourrait éviter une perte de données."
   ]
  },
  {
   "cell_type": "code",
   "execution_count": null,
   "id": "cd321be6",
   "metadata": {},
   "outputs": [],
   "source": [
    "si un fichier est supprime par erreur les commandes git checkout et git reset permettent de le recuperer"
   ]
  },
  {
   "cell_type": "markdown",
   "id": "bc55da8e-98a5-4f76-be8c-23fa66ce9f49",
   "metadata": {},
   "source": [
    "20. Si vous avez accidentellement committé un mot de passe dans un fichier, comment pouvez-vous corriger cela dans Git ?"
   ]
  },
  {
   "cell_type": "code",
   "execution_count": null,
   "id": "ad52262f",
   "metadata": {},
   "outputs": [],
   "source": []
  }
 ],
 "metadata": {
  "kernelspec": {
   "display_name": "Python 3 (ipykernel)",
   "language": "python",
   "name": "python3"
  },
  "language_info": {
   "codemirror_mode": {
    "name": "ipython",
    "version": 3
   },
   "file_extension": ".py",
   "mimetype": "text/x-python",
   "name": "python",
   "nbconvert_exporter": "python",
   "pygments_lexer": "ipython3",
   "version": "3.11.4"
  }
 },
 "nbformat": 4,
 "nbformat_minor": 5
}
