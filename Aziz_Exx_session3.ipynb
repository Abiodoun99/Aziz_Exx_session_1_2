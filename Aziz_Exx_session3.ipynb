{
 "cells": [
  {
   "cell_type": "markdown",
   "id": "ec133e5b",
   "metadata": {},
   "source": [
    "# I. Questions Théoriques"
   ]
  },
  {
   "cell_type": "markdown",
   "id": "c26a1403",
   "metadata": {},
   "source": [
    "1  \n",
    "Une liste est une collection ordonnée et modifiable   \n",
    "Un tuple est une collection ordonnée mais non modifiable  \n",
    "Un dictionnaire est une collection non ordonnée de paires clé-valeur"
   ]
  },
  {
   "cell_type": "markdown",
   "id": "7a6fa599",
   "metadata": {},
   "source": [
    "2  \n",
    "Une liste peut etre modifiee mais pas un tuple  \n",
    "Ex"
   ]
  },
  {
   "cell_type": "code",
   "execution_count": 1,
   "id": "7f183037",
   "metadata": {},
   "outputs": [
    {
     "ename": "TypeError",
     "evalue": "'tuple' object does not support item assignment",
     "output_type": "error",
     "traceback": [
      "\u001b[1;31m---------------------------------------------------------------------------\u001b[0m",
      "\u001b[1;31mTypeError\u001b[0m                                 Traceback (most recent call last)",
      "Cell \u001b[1;32mIn[1], line 7\u001b[0m\n\u001b[0;32m      5\u001b[0m \u001b[38;5;66;03m# Tuple immuable\u001b[39;00m\n\u001b[0;32m      6\u001b[0m tpl \u001b[38;5;241m=\u001b[39m (\u001b[38;5;241m1\u001b[39m, \u001b[38;5;241m2\u001b[39m, \u001b[38;5;241m3\u001b[39m)\n\u001b[1;32m----> 7\u001b[0m tpl[\u001b[38;5;241m0\u001b[39m] \u001b[38;5;241m=\u001b[39m \u001b[38;5;241m10\u001b[39m\n",
      "\u001b[1;31mTypeError\u001b[0m: 'tuple' object does not support item assignment"
     ]
    }
   ],
   "source": [
    "# Liste mutable\n",
    "lst = [1, 2, 3]\n",
    "lst[0] = 10 \n",
    "\n",
    "# Tuple immuable\n",
    "tpl = (1, 2, 3)\n",
    "tpl[0] = 10 "
   ]
  },
  {
   "cell_type": "markdown",
   "id": "89593127",
   "metadata": {},
   "source": [
    "3  \n",
    "il est preferable d'utiliser un tuple plutot qu'une liste lorsque les donees ne doivent pas etre modifiees, ou aussi comme cle d'un dictionnaire"
   ]
  },
  {
   "cell_type": "markdown",
   "id": "ee610cc5",
   "metadata": {},
   "source": [
    "4  \n",
    "l'indexation permet d’accéder aux éléments d’une liste via leur position  \n",
    "Python commence a partir de 0 car Python suit la convention d'indexation de base zéro,c'est a dire que l’adresse du premier élément est un décalage de 0 par rapport au début du tableau"
   ]
  },
  {
   "cell_type": "code",
   "execution_count": 2,
   "id": "9929d1a6",
   "metadata": {},
   "outputs": [],
   "source": [
    "#5#  \n",
    " #Pour ajouter\n",
    "lst = [1, 2, 3]\n",
    "lst.append(4)  \n",
    "lst.insert(1, 10) \n",
    "\n",
    "# pour supprimer\n",
    "lst.remove(2)  \n",
    "lst.pop(0) \n",
    "del lst[1]  "
   ]
  },
  {
   "cell_type": "code",
   "execution_count": 4,
   "id": "dc31f29e",
   "metadata": {},
   "outputs": [],
   "source": [
    "#6#\n",
    "d = {\"nom\": \"Alice\", \"âge\": 25}\n",
    "d.keys()     # Liste des clés\n",
    "d.values()   # Liste des valeurs\n",
    "d.items()    # Liste des paires clé-valeur\n",
    "d.get(\"nom\") # Récupérer une valeur sans erreur si la clé n'existe pas\n",
    "d.pop(\"âge\") # Supprimer une clé et retourner sa valeur\n",
    "d.update({\"ville\": \"Paris\"})  # Ajouter ou mettre à jour une clé"
   ]
  },
  {
   "cell_type": "code",
   "execution_count": 5,
   "id": "619373dc",
   "metadata": {},
   "outputs": [
    {
     "ename": "KeyError",
     "evalue": "'âge'",
     "output_type": "error",
     "traceback": [
      "\u001b[1;31m---------------------------------------------------------------------------\u001b[0m",
      "\u001b[1;31mKeyError\u001b[0m                                  Traceback (most recent call last)",
      "Cell \u001b[1;32mIn[5], line 3\u001b[0m\n\u001b[0;32m      1\u001b[0m \u001b[38;5;66;03m#7#\u001b[39;00m\n\u001b[0;32m      2\u001b[0m d \u001b[38;5;241m=\u001b[39m {\u001b[38;5;124m\"\u001b[39m\u001b[38;5;124mnom\u001b[39m\u001b[38;5;124m\"\u001b[39m: \u001b[38;5;124m\"\u001b[39m\u001b[38;5;124mAlice\u001b[39m\u001b[38;5;124m\"\u001b[39m}\n\u001b[1;32m----> 3\u001b[0m \u001b[38;5;28mprint\u001b[39m(d[\u001b[38;5;124m\"\u001b[39m\u001b[38;5;124mâge\u001b[39m\u001b[38;5;124m\"\u001b[39m])  \n\u001b[0;32m      4\u001b[0m \u001b[38;5;66;03m# Erreur la cle n'existe pas\u001b[39;00m\n\u001b[0;32m      5\u001b[0m \n\u001b[0;32m      6\u001b[0m \u001b[38;5;66;03m# pour eviter une erreur, on peut utiliser get()\u001b[39;00m\n\u001b[0;32m      7\u001b[0m \u001b[38;5;28mprint\u001b[39m(d\u001b[38;5;241m.\u001b[39mget(\u001b[38;5;124m\"\u001b[39m\u001b[38;5;124mâge\u001b[39m\u001b[38;5;124m\"\u001b[39m, \u001b[38;5;124m\"\u001b[39m\u001b[38;5;124mInconnu\u001b[39m\u001b[38;5;124m\"\u001b[39m))\n",
      "\u001b[1;31mKeyError\u001b[0m: 'âge'"
     ]
    }
   ],
   "source": [
    "#7#\n",
    "d = {\"nom\": \"Alice\"}\n",
    "print(d[\"âge\"])  \n",
    "\n",
    "# pour eviter une erreur, on peut utiliser get()\n",
    "print(d.get(\"âge\", \"Inconnu\"))"
   ]
  },
  {
   "cell_type": "markdown",
   "id": "bfe2ac88",
   "metadata": {},
   "source": [
    "8  \n",
    "Avant Python 3.7, les dictionnaires ne garantissaient pas l’ordre des éléments  \n",
    "Mais depuis la version 3.7 de Python, les dictionnaires sont ordonnés, modifiable et qui ne permet pas les doublons"
   ]
  },
  {
   "cell_type": "markdown",
   "id": "04e57751",
   "metadata": {},
   "source": [
    "9  \n",
    "Une clé est unique et permet d’identifier une valeur alors qu'une valeur est l’information stockée associée à une clé"
   ]
  },
  {
   "cell_type": "code",
   "execution_count": 6,
   "id": "065fd284",
   "metadata": {},
   "outputs": [
    {
     "name": "stdout",
     "output_type": "stream",
     "text": [
      "alice@example.com\n"
     ]
    }
   ],
   "source": [
    "#10#\n",
    "utilisateur = {\n",
    "    \"nom\": \"Alice\",\n",
    "    \"âge\": 25,\n",
    "    \"email\": \"alice@example.com\"\n",
    "}\n",
    "#pour afficher l'email de l'utilisateur\n",
    "print(utilisateur[\"email\"])"
   ]
  },
  {
   "cell_type": "markdown",
   "id": "76a97c24",
   "metadata": {},
   "source": [
    "# II. Exercices sur les Listes"
   ]
  },
  {
   "cell_type": "code",
   "execution_count": 8,
   "id": "67f5cf47",
   "metadata": {},
   "outputs": [
    {
     "name": "stdout",
     "output_type": "stream",
     "text": [
      "['Benin', \"Cote d'Ivoire\", 'Ghana', 'Nigeria', 'Togo']\n"
     ]
    }
   ],
   "source": [
    "#1#\n",
    "pays = [\"Benin\", \"Cote d'Ivoire\", \"Ghana\", \"Nigeria\", \"Togo\"]\n",
    "print(pays)"
   ]
  },
  {
   "cell_type": "code",
   "execution_count": 9,
   "id": "459ff4e3",
   "metadata": {},
   "outputs": [
    {
     "name": "stdout",
     "output_type": "stream",
     "text": [
      "Ghana\n"
     ]
    }
   ],
   "source": [
    "#2#\n",
    "print(pays[2])"
   ]
  },
  {
   "cell_type": "code",
   "execution_count": 10,
   "id": "8a5ecfad",
   "metadata": {},
   "outputs": [],
   "source": [
    "#3#\n",
    "pays[1] = \"Sénégal\""
   ]
  },
  {
   "cell_type": "code",
   "execution_count": 13,
   "id": "965ceed9",
   "metadata": {},
   "outputs": [
    {
     "name": "stdout",
     "output_type": "stream",
     "text": [
      "['Benin', 'Sénégal', 'Ghana', 'Nigeria', 'Togo', 'Mali', 'Mali', 'Mali']\n"
     ]
    }
   ],
   "source": [
    "#4#\n",
    "pays.append(\"Mali\")\n",
    "print(pays)"
   ]
  },
  {
   "cell_type": "code",
   "execution_count": 17,
   "id": "55bd2cda",
   "metadata": {},
   "outputs": [
    {
     "name": "stdout",
     "output_type": "stream",
     "text": [
      "['Benin', 'Sénégal', 'Ghana', 'Nigeria', 'Togo']\n"
     ]
    }
   ],
   "source": [
    "#5#\n",
    "pays.pop()\n",
    "print(pays)"
   ]
  },
  {
   "cell_type": "code",
   "execution_count": 19,
   "id": "3726494f",
   "metadata": {},
   "outputs": [
    {
     "name": "stdout",
     "output_type": "stream",
     "text": [
      "Absent\n"
     ]
    }
   ],
   "source": [
    "#6#\n",
    "message = \"Present\" if \"Maroc\" in pays else \"Absent\"\n",
    "print(message)"
   ]
  },
  {
   "cell_type": "code",
   "execution_count": 20,
   "id": "b8458ef0",
   "metadata": {},
   "outputs": [
    {
     "name": "stdout",
     "output_type": "stream",
     "text": [
      "1\n"
     ]
    }
   ],
   "source": [
    "#7#\n",
    "print(pays.index(\"Sénégal\"))\n"
   ]
  },
  {
   "cell_type": "code",
   "execution_count": 21,
   "id": "1c2547b5",
   "metadata": {},
   "outputs": [
    {
     "name": "stdout",
     "output_type": "stream",
     "text": [
      "5\n"
     ]
    }
   ],
   "source": [
    "#8#\n",
    "print(len(pays))"
   ]
  },
  {
   "cell_type": "code",
   "execution_count": 33,
   "id": "133de7db",
   "metadata": {},
   "outputs": [
    {
     "name": "stdout",
     "output_type": "stream",
     "text": [
      "2277\n"
     ]
    }
   ],
   "source": [
    "#9#\n",
    "numbers = [5, 30, 2020, 99, 123]\n",
    "print(sum(numbers))"
   ]
  },
  {
   "cell_type": "code",
   "execution_count": 35,
   "id": "9a649662",
   "metadata": {},
   "outputs": [
    {
     "name": "stdout",
     "output_type": "stream",
     "text": [
      "[1, 2, 3, 4, 5, 6]\n"
     ]
    }
   ],
   "source": [
    "#10#\n",
    "list1 = [1, 2, 3]\n",
    "list2 = [4, 5, 6]\n",
    "fusion = list1 + list2\n",
    "print(fusion)"
   ]
  },
  {
   "cell_type": "code",
   "execution_count": 37,
   "id": "123bf267",
   "metadata": {},
   "outputs": [
    {
     "data": {
      "text/plain": [
       "['python', 'is', 'fun', 'to', 'learn']"
      ]
     },
     "execution_count": 37,
     "metadata": {},
     "output_type": "execute_result"
    }
   ],
   "source": [
    "11\n",
    "phrase = \"python is fun to learn\"\n",
    "mots = phrase.split()\n",
    "print(mots)"
   ]
  },
  {
   "cell_type": "code",
   "execution_count": 38,
   "id": "335affb1",
   "metadata": {},
   "outputs": [
    {
     "name": "stdout",
     "output_type": "stream",
     "text": [
      "[99, 2020, 5, 123, 30]\n"
     ]
    }
   ],
   "source": [
    "12\n",
    "number = [5, 30, 2020,2020, 99, 123, 123]\n",
    "unique = list(set(number))\n",
    "print(unique)"
   ]
  },
  {
   "cell_type": "code",
   "execution_count": 40,
   "id": "b93889d9",
   "metadata": {},
   "outputs": [
    {
     "data": {
      "text/plain": [
       "['Benin', 'Sénégal', 'Ghana']"
      ]
     },
     "execution_count": 40,
     "metadata": {},
     "output_type": "execute_result"
    }
   ],
   "source": [
    "13\n",
    "pays[:3]"
   ]
  },
  {
   "cell_type": "code",
   "execution_count": 41,
   "id": "6fcaa71c",
   "metadata": {},
   "outputs": [
    {
     "data": {
      "text/plain": [
       "['Togo', 'Nigeria', 'Ghana', 'Sénégal', 'Benin']"
      ]
     },
     "execution_count": 41,
     "metadata": {},
     "output_type": "execute_result"
    }
   ],
   "source": [
    "14\n",
    "pays[::-1]"
   ]
  },
  {
   "cell_type": "code",
   "execution_count": 42,
   "id": "074aa29c",
   "metadata": {},
   "outputs": [
    {
     "name": "stdout",
     "output_type": "stream",
     "text": [
      "['BENIN', 'SÉNÉGAL', 'GHANA', 'NIGERIA', 'TOGO']\n"
     ]
    }
   ],
   "source": [
    "15\n",
    "PAYS = [p.upper() for p in pays]\n",
    "print(PAYS)"
   ]
  },
  {
   "cell_type": "code",
   "execution_count": 43,
   "id": "b75c7e63",
   "metadata": {},
   "outputs": [
    {
     "data": {
      "text/plain": [
       "2020"
      ]
     },
     "execution_count": 43,
     "metadata": {},
     "output_type": "execute_result"
    }
   ],
   "source": [
    "16 \n",
    "max(numbers)"
   ]
  },
  {
   "cell_type": "code",
   "execution_count": 45,
   "id": "3a2d66f0",
   "metadata": {},
   "outputs": [
    {
     "data": {
      "text/plain": [
       "'1234'"
      ]
     },
     "execution_count": 45,
     "metadata": {},
     "output_type": "execute_result"
    }
   ],
   "source": [
    "17\n",
    "chiffres = [1, 2, 3, 4]\n",
    "chain = \"\".join(map(str, chiffres))\n",
    "chain"
   ]
  },
  {
   "cell_type": "code",
   "execution_count": 47,
   "id": "6689aa69",
   "metadata": {},
   "outputs": [
    {
     "data": {
      "text/plain": [
       "[30, 2020]"
      ]
     },
     "execution_count": 47,
     "metadata": {},
     "output_type": "execute_result"
    }
   ],
   "source": [
    "18\n",
    "pair = [n for n in numbers if n % 2 == 0]\n",
    "pair"
   ]
  },
  {
   "cell_type": "code",
   "execution_count": 49,
   "id": "b6f3a745",
   "metadata": {},
   "outputs": [
    {
     "name": "stdout",
     "output_type": "stream",
     "text": [
      "5\n"
     ]
    }
   ],
   "source": [
    "19\n",
    "sous_liste = [[1, 2, 3], [4, 5, 6], [7, 8, 9]]\n",
    "print(sous_liste[1][1]) "
   ]
  },
  {
   "cell_type": "code",
   "execution_count": 50,
   "id": "f838c46b",
   "metadata": {},
   "outputs": [
    {
     "name": "stdout",
     "output_type": "stream",
     "text": [
      "[]\n"
     ]
    }
   ],
   "source": [
    "20\n",
    "listee = [1, 2, 3, 4, 5]\n",
    "del listee[:]\n",
    "print(listee)"
   ]
  },
  {
   "cell_type": "code",
   "execution_count": null,
   "id": "64f85dac",
   "metadata": {},
   "outputs": [],
   "source": [
    "21\n",
    "unique = list((set(L))"
   ]
  },
  {
   "cell_type": "code",
   "execution_count": 52,
   "id": "1c967215",
   "metadata": {},
   "outputs": [
    {
     "name": "stdout",
     "output_type": "stream",
     "text": [
      "[1, 2]\n"
     ]
    }
   ],
   "source": [
    "22\n",
    "liste1 = [1, 2, 3, 4, 5]\n",
    "liste2 = [3, 4, 5, 6, 7]\n",
    "diff = list(set(liste1) - set(liste2))\n",
    "print(diff)"
   ]
  },
  {
   "cell_type": "code",
   "execution_count": 54,
   "id": "eefa430e",
   "metadata": {},
   "outputs": [
    {
     "name": "stdout",
     "output_type": "stream",
     "text": [
      "('BENIN', 'SÉNÉGAL', 'GHANA', 'NIGERIA', 'TOGO')\n"
     ]
    }
   ],
   "source": [
    "23\n",
    "Tpl = tuple(PAYS)\n",
    "print(Tpl)"
   ]
  },
  {
   "cell_type": "code",
   "execution_count": 55,
   "id": "bdbd7f32",
   "metadata": {},
   "outputs": [
    {
     "name": "stdout",
     "output_type": "stream",
     "text": [
      "[87, 7, 42, 48, 78, 39, 59, 98, 44, 70]\n"
     ]
    }
   ],
   "source": [
    "24\n",
    "import random\n",
    "list_random = [random.randint(1, 100) for _ in range(10)]\n",
    "print(list_random)"
   ]
  },
  {
   "cell_type": "code",
   "execution_count": 56,
   "id": "85bdc7b4",
   "metadata": {},
   "outputs": [
    {
     "name": "stdout",
     "output_type": "stream",
     "text": [
      "[20 22 24 26 28]\n"
     ]
    }
   ],
   "source": [
    "25\n",
    "import numpy as np\n",
    "nombr = [10, 11, 12, 13, 14]\n",
    "result = np.array(nombr) * 2\n",
    "print(result)"
   ]
  },
  {
   "cell_type": "code",
   "execution_count": 57,
   "id": "a446b0bb",
   "metadata": {},
   "outputs": [
    {
     "name": "stdout",
     "output_type": "stream",
     "text": [
      "[1, 2, 3]\n"
     ]
    }
   ],
   "source": [
    "26\n",
    "liste = [1, None, 2, None, 3]\n",
    "\n",
    "liste_filtre = [x for x in liste if x is not None]\n",
    "\n",
    "print(liste_filtre)"
   ]
  },
  {
   "cell_type": "code",
   "execution_count": 60,
   "id": "18a47ea3",
   "metadata": {},
   "outputs": [
    {
     "name": "stdout",
     "output_type": "stream",
     "text": [
      "[[1, 2, 3], [4, 5, 6], [7, 8, 9]]\n"
     ]
    }
   ],
   "source": [
    "27\n",
    "def diviser_liste(lst, taille):\n",
    "    return [lst[i:i + taille] for i in range(0, len(lst), taille)]\n",
    "\n",
    "liste = [1, 2, 3, 4, 5, 6]\n",
    "sous_listes = diviser_liste(liste, 2)\n",
    "print(sous_liste)"
   ]
  },
  {
   "cell_type": "code",
   "execution_count": 61,
   "id": "3c4118d0",
   "metadata": {},
   "outputs": [
    {
     "name": "stdout",
     "output_type": "stream",
     "text": [
      "[1, 2, 3, 4, 5, 6]\n"
     ]
    }
   ],
   "source": [
    "28\n",
    "liste1 = [1, 3, 5]\n",
    "liste2 = [2, 4, 6]\n",
    "fusion = [val for pair in zip(liste1, liste2) for val in pair]\n",
    "print(fusion)"
   ]
  },
  {
   "cell_type": "code",
   "execution_count": 62,
   "id": "8d6424e7",
   "metadata": {},
   "outputs": [
    {
     "name": "stdout",
     "output_type": "stream",
     "text": [
      "{'nom': 'Alice', 'age': 25, 'ville': 'Paris'}\n"
     ]
    }
   ],
   "source": [
    "29\n",
    "cles = [\"nom\", \"age\", \"ville\"]\n",
    "valeurs = [\"Alice\", 25, \"Paris\"]\n",
    "Dico = dict(zip(cles, valeurs))\n",
    "print(Dico)"
   ]
  },
  {
   "cell_type": "code",
   "execution_count": 63,
   "id": "e7328a63",
   "metadata": {},
   "outputs": [
    {
     "name": "stdout",
     "output_type": "stream",
     "text": [
      "[3, 4, 5]\n"
     ]
    }
   ],
   "source": [
    "30\n",
    "liste1 = [1, 2, 3, 4, 5]\n",
    "liste2 = [3, 4, 5, 6, 7]\n",
    "communs = list(set(liste1) & set(liste2))\n",
    "print(communs)"
   ]
  },
  {
   "cell_type": "markdown",
   "id": "3e7d7c68",
   "metadata": {},
   "source": [
    "# III. Exercices sur les Tuples"
   ]
  },
  {
   "cell_type": "code",
   "execution_count": 22,
   "id": "bb1a39d7",
   "metadata": {},
   "outputs": [],
   "source": [
    "#1#\n",
    "nombres = (5, 30, 2020, 99, 123)"
   ]
  },
  {
   "cell_type": "code",
   "execution_count": 23,
   "id": "1008e40e",
   "metadata": {},
   "outputs": [
    {
     "name": "stdout",
     "output_type": "stream",
     "text": [
      "2020\n"
     ]
    }
   ],
   "source": [
    "#2#\n",
    "print(nombres[2])"
   ]
  },
  {
   "cell_type": "code",
   "execution_count": null,
   "id": "99ac31c5",
   "metadata": {},
   "outputs": [],
   "source": [
    "#3#\n",
    "liste = list(nombres)\n",
    "liste[1] = 50\n",
    "nombres = tuple(liste)"
   ]
  },
  {
   "cell_type": "code",
   "execution_count": 24,
   "id": "4fef239f",
   "metadata": {},
   "outputs": [
    {
     "name": "stdout",
     "output_type": "stream",
     "text": [
      "True\n",
      "False\n"
     ]
    }
   ],
   "source": [
    "#4#\n",
    "print(30 in nombres)\n",
    "print(7 in nombres)"
   ]
  },
  {
   "cell_type": "code",
   "execution_count": 26,
   "id": "9948d62e",
   "metadata": {},
   "outputs": [
    {
     "name": "stdout",
     "output_type": "stream",
     "text": [
      "(1, 2, 3, 4, 5, 6)\n"
     ]
    }
   ],
   "source": [
    "#5#\n",
    "tuple1 = (1, 2, 3)\n",
    "tuple2 = (4, 5, 6)\n",
    "concatene = tuple1 + tuple2\n",
    "print(concatene)"
   ]
  },
  {
   "cell_type": "code",
   "execution_count": 27,
   "id": "c5737bce",
   "metadata": {},
   "outputs": [
    {
     "name": "stdout",
     "output_type": "stream",
     "text": [
      "(30, 2020, 99)\n"
     ]
    }
   ],
   "source": [
    "#6#\n",
    "sub_nombre = nombres[1:4]\n",
    "print(sub_nombre)"
   ]
  },
  {
   "cell_type": "code",
   "execution_count": 28,
   "id": "79c962f7",
   "metadata": {},
   "outputs": [
    {
     "name": "stdout",
     "output_type": "stream",
     "text": [
      "5\n"
     ]
    }
   ],
   "source": [
    "#7#\n",
    "print(len(nombres))"
   ]
  },
  {
   "cell_type": "code",
   "execution_count": 29,
   "id": "cdbec032",
   "metadata": {},
   "outputs": [
    {
     "name": "stdout",
     "output_type": "stream",
     "text": [
      "3\n"
     ]
    }
   ],
   "source": [
    "#8#\n",
    "print(nombres.index(99))"
   ]
  },
  {
   "cell_type": "code",
   "execution_count": 32,
   "id": "5a39ac27",
   "metadata": {},
   "outputs": [
    {
     "data": {
      "text/plain": [
       "'5, 30, 2020, 99, 123'"
      ]
     },
     "execution_count": 32,
     "metadata": {},
     "output_type": "execute_result"
    }
   ],
   "source": [
    "#9#\n",
    "chaine = \", \".join(map(str, nombres))\n",
    "chaine"
   ]
  },
  {
   "cell_type": "markdown",
   "id": "b67d737f",
   "metadata": {},
   "source": [
    "10  \n",
    "Les tuples sont immuables, ce qui empeche toute modification accidentelle des donnees. Ils sont plus rapide que les listes et preservent l'integrite des donnees"
   ]
  },
  {
   "cell_type": "markdown",
   "id": "c38d8f88",
   "metadata": {},
   "source": [
    "# IV. Exercices sur les Dictionnaires"
   ]
  },
  {
   "cell_type": "code",
   "execution_count": 65,
   "id": "0357b614",
   "metadata": {},
   "outputs": [],
   "source": [
    "1\n",
    "User = {\"nom\": \"Alice\",\n",
    "            \"âge\": 25, \n",
    "            \"ville\": \"Cotonou\"}"
   ]
  },
  {
   "cell_type": "code",
   "execution_count": 66,
   "id": "ac8dc0a5",
   "metadata": {},
   "outputs": [
    {
     "name": "stdout",
     "output_type": "stream",
     "text": [
      "25\n"
     ]
    }
   ],
   "source": [
    "2\n",
    "print(User[\"âge\"]) "
   ]
  },
  {
   "cell_type": "code",
   "execution_count": 67,
   "id": "52541d38",
   "metadata": {},
   "outputs": [],
   "source": [
    "3\n",
    "User[\"profession\"] = \"Lawyer\""
   ]
  },
  {
   "cell_type": "code",
   "execution_count": 69,
   "id": "8ba41ddd",
   "metadata": {},
   "outputs": [
    {
     "name": "stdout",
     "output_type": "stream",
     "text": [
      "{'nom': 'Alice', 'âge': 25, 'ville': 'Porto-Novo', 'profession': 'Lawyer'}\n"
     ]
    }
   ],
   "source": [
    "4\n",
    "User[\"ville\"] = \"Porto-Novo\"\n",
    "print(User)"
   ]
  },
  {
   "cell_type": "code",
   "execution_count": 70,
   "id": "6aaaf99d",
   "metadata": {},
   "outputs": [],
   "source": [
    "5\n",
    "del User[\"âge\"]"
   ]
  },
  {
   "cell_type": "code",
   "execution_count": 71,
   "id": "b60f4c8b",
   "metadata": {},
   "outputs": [
    {
     "name": "stdout",
     "output_type": "stream",
     "text": [
      "True\n",
      "False\n"
     ]
    }
   ],
   "source": [
    "6\n",
    "print(\"nom\" in User)\n",
    "print(\"salaire\" in User)"
   ]
  },
  {
   "cell_type": "code",
   "execution_count": 72,
   "id": "029d2b9e",
   "metadata": {},
   "outputs": [
    {
     "name": "stdout",
     "output_type": "stream",
     "text": [
      "dict_keys(['nom', 'ville', 'profession'])\n"
     ]
    }
   ],
   "source": [
    "7\n",
    "print(User.keys())"
   ]
  },
  {
   "cell_type": "code",
   "execution_count": 73,
   "id": "41846845",
   "metadata": {},
   "outputs": [
    {
     "name": "stdout",
     "output_type": "stream",
     "text": [
      "dict_values(['Alice', 'Porto-Novo', 'Lawyer'])\n"
     ]
    }
   ],
   "source": [
    "8\n",
    "print(User.values())"
   ]
  },
  {
   "cell_type": "code",
   "execution_count": 76,
   "id": "4741f7ba",
   "metadata": {},
   "outputs": [
    {
     "name": "stdout",
     "output_type": "stream",
     "text": [
      "[('nom', 'Alice'), ('ville', 'Porto-Novo'), ('profession', 'Lawyer')]\n",
      "list[dict_items([('nom', 'Alice'), ('ville', 'Porto-Novo'), ('profession', 'Lawyer')])]\n"
     ]
    }
   ],
   "source": [
    "9\n",
    "tuple = list(User.items())\n",
    "print(tuple)\n"
   ]
  },
  {
   "cell_type": "code",
   "execution_count": 77,
   "id": "a060eb97",
   "metadata": {},
   "outputs": [
    {
     "name": "stdout",
     "output_type": "stream",
     "text": [
      "{'a': 1, 'b': 2, 'c': 3, 'd': 4}\n"
     ]
    }
   ],
   "source": [
    "10\n",
    "dict1 = {\"a\": 1, \"b\": 2}\n",
    "dict2 = {\"c\": 3, \"d\": 4}\n",
    "fusion = {**dict1, **dict2}\n",
    "print(fusion)"
   ]
  },
  {
   "cell_type": "code",
   "execution_count": 78,
   "id": "d18d128a",
   "metadata": {},
   "outputs": [],
   "source": [
    "11\n",
    "capitales = {\"Benin\": \"Porto-Novo\", \"Italie\": \"Rome\", \"Japon\": \"Tokyo\", \"Nigeria\":\"Abuja\"}"
   ]
  },
  {
   "cell_type": "code",
   "execution_count": 79,
   "id": "aaa26d95",
   "metadata": {},
   "outputs": [
    {
     "name": "stdout",
     "output_type": "stream",
     "text": [
      "Abuja\n"
     ]
    }
   ],
   "source": [
    "12\n",
    "print(capitales[\"Nigeria\"])"
   ]
  },
  {
   "cell_type": "code",
   "execution_count": 80,
   "id": "9ca4e9f8",
   "metadata": {},
   "outputs": [],
   "source": [
    "13\n",
    "capitales[\"Benin\"]=\"Cotonou\""
   ]
  },
  {
   "cell_type": "code",
   "execution_count": 83,
   "id": "1d765a5b",
   "metadata": {},
   "outputs": [
    {
     "name": "stdout",
     "output_type": "stream",
     "text": [
      "{'Cotonou': 'Benin', 'Rome': 'Italie', 'Tokyo': 'Japon', 'Abuja': 'Nigeria'}\n"
     ]
    }
   ],
   "source": [
    "14\n",
    "capitale_inverse = {v: k for k, v in capitales.items()}\n",
    "print(capitale_inverse)"
   ]
  },
  {
   "cell_type": "code",
   "execution_count": 84,
   "id": "1b89d968",
   "metadata": {},
   "outputs": [
    {
     "name": "stdout",
     "output_type": "stream",
     "text": [
      "{'mango': 1, 'banana': 2, 'citron': 3}\n"
     ]
    }
   ],
   "source": [
    "15\n",
    "cles = [\"mango\", \"banana\", \"citron\"]\n",
    "valeurs = [1, 2, 3]\n",
    "dictionnaire = dict(zip(cles, valeurs))\n",
    "print(dictionnaire)"
   ]
  },
  {
   "cell_type": "code",
   "execution_count": 86,
   "id": "55815392",
   "metadata": {},
   "outputs": [
    {
     "name": "stdout",
     "output_type": "stream",
     "text": [
      "{'nom': 'Alice', 'ville': 'Porto-Novo'}\n"
     ]
    }
   ],
   "source": [
    "16\n",
    "keys_rest = {\"nom\", \"ville\"}\n",
    "filtre = {k: v for k, v in User.items() if k in keys_rest}\n",
    "print(filtre)"
   ]
  },
  {
   "cell_type": "code",
   "execution_count": 92,
   "id": "9846e220",
   "metadata": {},
   "outputs": [],
   "source": [
    "17\n",
    "User.pop(\"salaire\", None)\n",
    "User.pop(\"ville\", None)"
   ]
  },
  {
   "cell_type": "code",
   "execution_count": 93,
   "id": "a9fbc875",
   "metadata": {},
   "outputs": [
    {
     "name": "stdout",
     "output_type": "stream",
     "text": [
      "nom: Alice\n",
      "profession: Lawyer\n"
     ]
    }
   ],
   "source": [
    "18\n",
    "for k, v in User.items():\n",
    "    print(f\"{k}: {v}\")"
   ]
  },
  {
   "cell_type": "code",
   "execution_count": 94,
   "id": "e350a821",
   "metadata": {},
   "outputs": [
    {
     "name": "stdout",
     "output_type": "stream",
     "text": [
      "10\n"
     ]
    }
   ],
   "source": [
    "19\n",
    "print(sum(fusion.values()))"
   ]
  },
  {
   "cell_type": "code",
   "execution_count": 96,
   "id": "5e4633e9",
   "metadata": {},
   "outputs": [
    {
     "name": "stdout",
     "output_type": "stream",
     "text": [
      "d\n"
     ]
    }
   ],
   "source": [
    "20\n",
    "max_key = max(fusion, key=fusion.get)\n",
    "print(max_key)"
   ]
  },
  {
   "cell_type": "code",
   "execution_count": 105,
   "id": "81d0b462",
   "metadata": {},
   "outputs": [
    {
     "name": "stdout",
     "output_type": "stream",
     "text": [
      "{'Lola': {'âge': 19, 'ville': 'Cotonou'}, 'Ned': {'âge': 22, 'ville': 'Accra'}}\n"
     ]
    }
   ],
   "source": [
    "21\n",
    "Students = {\n",
    "    \"Lola\": {\"âge\": 19, \"ville\": \"Cotonou\"},\n",
    "    \"Ned\": {\"âge\": 22, \"ville\": \"Accra\"}\n",
    "}\n",
    "print(Students)"
   ]
  },
  {
   "cell_type": "code",
   "execution_count": 99,
   "id": "d1d7d6e7",
   "metadata": {},
   "outputs": [
    {
     "name": "stdout",
     "output_type": "stream",
     "text": [
      "Cotonou\n"
     ]
    }
   ],
   "source": [
    "22\n",
    "print(Students[\"Lola\"][\"ville\"])"
   ]
  },
  {
   "cell_type": "code",
   "execution_count": 106,
   "id": "dc05a034",
   "metadata": {},
   "outputs": [
    {
     "name": "stdout",
     "output_type": "stream",
     "text": [
      "{'Lola': {'âge': 19, 'ville': 'Cotonou'}, 'Ned': {'ville': 'Accra'}}\n"
     ]
    }
   ],
   "source": [
    "23\n",
    "del Students[\"Ned\"][\"âge\"]\n",
    "print(Students)"
   ]
  },
  {
   "cell_type": "code",
   "execution_count": 109,
   "id": "7955d8f5",
   "metadata": {},
   "outputs": [
    {
     "name": "stdout",
     "output_type": "stream",
     "text": [
      "None\n"
     ]
    }
   ],
   "source": [
    "24\n",
    "dict_1 = {\"a\": 1, \"b\": 2, \"x\":28}\n",
    "dict_2 = {\"c\": 3, \"d\": 4, \"y\":14}\n",
    "print(dict_1.update(dict_2))"
   ]
  },
  {
   "cell_type": "code",
   "execution_count": 110,
   "id": "ccd755a7",
   "metadata": {},
   "outputs": [
    {
     "name": "stdout",
     "output_type": "stream",
     "text": [
      "{'a': 1, 'b': 2, 'c': 3, 'd': 4}\n"
     ]
    }
   ],
   "source": [
    "25\n",
    "tri_cles = dict(sorted(fusion.items()))\n",
    "print(tri_cles)"
   ]
  },
  {
   "cell_type": "code",
   "execution_count": 111,
   "id": "d6fc73fe",
   "metadata": {},
   "outputs": [
    {
     "name": "stdout",
     "output_type": "stream",
     "text": [
      "{'a': 1, 'b': 2, 'c': 3, 'd': 4}\n"
     ]
    }
   ],
   "source": [
    "26\n",
    "tri_val = dict(sorted(fusion.items(), key=lambda x: x[1]))\n",
    "print(tri_val)"
   ]
  },
  {
   "cell_type": "code",
   "execution_count": 114,
   "id": "8cc50038",
   "metadata": {},
   "outputs": [
    {
     "name": "stdout",
     "output_type": "stream",
     "text": [
      "{\n",
      "    \"nom\": \"Alice\",\n",
      "    \"profession\": \"Lawyer\"\n",
      "}\n"
     ]
    }
   ],
   "source": [
    "27\n",
    "import json\n",
    "json_new = json.dumps(User, indent=4)\n",
    "print(json_new)"
   ]
  },
  {
   "cell_type": "code",
   "execution_count": 115,
   "id": "37fab7d9",
   "metadata": {},
   "outputs": [
    {
     "name": "stdout",
     "output_type": "stream",
     "text": [
      "{'pomme': 2, 'banane': 1, 'orange': 1}\n"
     ]
    }
   ],
   "source": [
    "28\n",
    "from collections import Counter\n",
    "lyste = [\"pomme\", \"banane\", \"pomme\", \"orange\"]\n",
    "occurrences = dict(Counter(lyste))\n",
    "print(occurrences)"
   ]
  },
  {
   "cell_type": "code",
   "execution_count": 116,
   "id": "9d80ccb6",
   "metadata": {},
   "outputs": [
    {
     "name": "stdout",
     "output_type": "stream",
     "text": [
      "| nom        | Alice      |\n",
      "| profession | Lawyer     |\n"
     ]
    }
   ],
   "source": [
    "29\n",
    "for k, v in User.items():\n",
    "    print(f\"| {k:<10} | {v:<10} |\")"
   ]
  },
  {
   "cell_type": "code",
   "execution_count": 117,
   "id": "5a76f072",
   "metadata": {},
   "outputs": [
    {
     "name": "stdout",
     "output_type": "stream",
     "text": [
      "{'Pommes': {'quantité': 50, 'prix': 1.2}, 'Bananes': {'quantité': 30, 'prix': 0.8}, 'Oranges': {'quantité': 20, 'prix': 1.5}}\n"
     ]
    }
   ],
   "source": [
    "30\n",
    "inventaire = {\n",
    "    \"Pommes\": {\"quantité\": 50, \"prix\": 1.2},\n",
    "    \"Bananes\": {\"quantité\": 30, \"prix\": 0.8},\n",
    "    \"Oranges\": {\"quantité\": 20, \"prix\": 1.5}\n",
    "}\n",
    "print(inventaire)"
   ]
  },
  {
   "cell_type": "code",
   "execution_count": null,
   "id": "507a6e4a",
   "metadata": {},
   "outputs": [],
   "source": []
  }
 ],
 "metadata": {
  "kernelspec": {
   "display_name": "Python 3 (ipykernel)",
   "language": "python",
   "name": "python3"
  },
  "language_info": {
   "codemirror_mode": {
    "name": "ipython",
    "version": 3
   },
   "file_extension": ".py",
   "mimetype": "text/x-python",
   "name": "python",
   "nbconvert_exporter": "python",
   "pygments_lexer": "ipython3",
   "version": "3.11.4"
  }
 },
 "nbformat": 4,
 "nbformat_minor": 5
}
